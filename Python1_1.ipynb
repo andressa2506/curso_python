{
  "nbformat": 4,
  "nbformat_minor": 0,
  "metadata": {
    "colab": {
      "provenance": [],
      "authorship_tag": "ABX9TyM8rsp3lFaBxUp7HAj+RKXq",
      "include_colab_link": true
    },
    "kernelspec": {
      "name": "python3",
      "display_name": "Python 3"
    },
    "language_info": {
      "name": "python"
    }
  },
  "cells": [
    {
      "cell_type": "markdown",
      "metadata": {
        "id": "view-in-github",
        "colab_type": "text"
      },
      "source": [
        "<a href=\"https://colab.research.google.com/github/andressa2506/curso_python/blob/main/Python1_1.ipynb\" target=\"_parent\"><img src=\"https://colab.research.google.com/assets/colab-badge.svg\" alt=\"Open In Colab\"/></a>"
      ]
    },
    {
      "cell_type": "markdown",
      "source": [
        "# Primeiro programa em Python\n",
        "Tradicionalmente, o primeiro programa feito em uma nova linguagem de programação consiste em exibir a frase \"Olá, mundo!\" na tela.\n",
        "\n",
        "Vamos fazer isso em Python?\n",
        "\n",
        "Para isso, basta utilizar a função print(), e indicar o texto a ser exibido entre aspas: \"Olá, mundo!\""
      ],
      "metadata": {
        "id": "xRomVQ0wf8TM"
      }
    },
    {
      "cell_type": "code",
      "execution_count": 1,
      "metadata": {
        "colab": {
          "base_uri": "https://localhost:8080/"
        },
        "id": "H-3-RF0ef5un",
        "outputId": "12ce8826-7f43-492c-f766-f6eed0eb6dbd"
      },
      "outputs": [
        {
          "output_type": "stream",
          "name": "stdout",
          "text": [
            "Olá, mundo!\n"
          ]
        }
      ],
      "source": [
        "print('Olá, mundo!')"
      ]
    },
    {
      "cell_type": "markdown",
      "source": [
        "podemos exibir o resultado de algumas operações simples usando a funçao print()\n",
        "\n",
        "Note que as instruções são executadas na ordem em que aparecem!"
      ],
      "metadata": {
        "id": "Xgt-eq0lgL0v"
      }
    },
    {
      "cell_type": "code",
      "source": [
        "print(2+2)\n",
        "print(3/4)\n",
        "print(5*6)"
      ],
      "metadata": {
        "colab": {
          "base_uri": "https://localhost:8080/"
        },
        "id": "ggdDv2NUgbMf",
        "outputId": "a597e370-8906-4f75-f75f-8f89a4ee2497"
      },
      "execution_count": 3,
      "outputs": [
        {
          "output_type": "stream",
          "name": "stdout",
          "text": [
            "4\n",
            "0.75\n",
            "30\n"
          ]
        }
      ]
    },
    {
      "cell_type": "markdown",
      "source": [
        "# Variáveis\n",
        "Uma variável pode legar qualquer nome, mas existem algumas regras:\n",
        "\n",
        "O Python diferencia maiúscula de minúscula (ex: \"variavel\" é diferente de \"Variavel\", \"VaRiAvEl\" ou \"VARIAVEL\")\n",
        "\n",
        "Dica: melhor usar letras minúsculas pra nomes de variáveis\n",
        "O nome das variáveis não pode ter espaço! Use um underline ao invés de espaço: \"minha_variavel\" ao invés de \"minha variavel\"\n",
        "\n",
        "É melhor que o nome da variável não tenha acento (ex: não usar o nome \"variável\")\n",
        "\n",
        "Existem algumas palavras reservadas do Python, que não podem ser usadas como nome de variável, ex: and, or, if, else, lambda, etc.\n",
        "Também não use nome de funções para variáveis (ex: print)\n",
        "\n",
        "Dica geral: o nome de variavel fica preto em python!\n",
        "\n",
        "Se o nome que você for dar ficar colorido, melhor escolher outro nome!"
      ],
      "metadata": {
        "id": "bEXtTo2Dg2yW"
      }
    },
    {
      "cell_type": "code",
      "source": [
        "nota1 = 6\n",
        "nota2 = 7\n",
        "nota3 = 8\n",
        "\n",
        "media = (nota1 + nota2 + nota3)/3\n",
        "\n",
        "print(media)"
      ],
      "metadata": {
        "colab": {
          "base_uri": "https://localhost:8080/"
        },
        "id": "HWCPkt5eg3ir",
        "outputId": "2064d56b-4a18-41b0-853a-e63fe47655ef"
      },
      "execution_count": 4,
      "outputs": [
        {
          "output_type": "stream",
          "name": "stdout",
          "text": [
            "7.0\n"
          ]
        }
      ]
    },
    {
      "cell_type": "markdown",
      "source": [
        "# Strings\n",
        "\n",
        "Uma string nada mais é do que uma ***coleção de caracteres***!\n",
        "\n",
        "Assim, podemos acessar caracteres específicos ou então um intervalo de caracteres de uma string, como se fosse uma lista!\n",
        "\n",
        "OBS.: Para strings também, o índice começa em 0, e podemos usar índices negativos!"
      ],
      "metadata": {
        "id": "-JCqZjh7iapr"
      }
    },
    {
      "cell_type": "code",
      "source": [
        "nome = 'Andressa'"
      ],
      "metadata": {
        "id": "-FLWLhabisIT"
      },
      "execution_count": 6,
      "outputs": []
    },
    {
      "cell_type": "code",
      "source": [
        "nome[0]"
      ],
      "metadata": {
        "colab": {
          "base_uri": "https://localhost:8080/",
          "height": 35
        },
        "id": "J8fw0oAAiyP5",
        "outputId": "0e527af1-1c48-4c03-e6ca-40af4f809fa2"
      },
      "execution_count": 7,
      "outputs": [
        {
          "output_type": "execute_result",
          "data": {
            "text/plain": [
              "'A'"
            ],
            "application/vnd.google.colaboratory.intrinsic+json": {
              "type": "string"
            }
          },
          "metadata": {},
          "execution_count": 7
        }
      ]
    },
    {
      "cell_type": "code",
      "source": [
        "nome[-1]"
      ],
      "metadata": {
        "colab": {
          "base_uri": "https://localhost:8080/",
          "height": 35
        },
        "id": "93dOboYCi9CV",
        "outputId": "423353f5-2f8a-4d6a-9ce3-ace6bc4700cc"
      },
      "execution_count": 8,
      "outputs": [
        {
          "output_type": "execute_result",
          "data": {
            "text/plain": [
              "'a'"
            ],
            "application/vnd.google.colaboratory.intrinsic+json": {
              "type": "string"
            }
          },
          "metadata": {},
          "execution_count": 8
        }
      ]
    },
    {
      "cell_type": "markdown",
      "source": [
        "Para saber o comprimento de uma string (quantos caracteres ela tem, incluindo espaços e pontuações), use a função len():"
      ],
      "metadata": {
        "id": "XPzq_d4wi9Vt"
      }
    },
    {
      "cell_type": "code",
      "source": [
        "len(nome)"
      ],
      "metadata": {
        "colab": {
          "base_uri": "https://localhost:8080/"
        },
        "id": "kp_QUUM2jH8u",
        "outputId": "110c7c4c-4457-4c35-e26e-61c80ead0727"
      },
      "execution_count": 9,
      "outputs": [
        {
          "output_type": "execute_result",
          "data": {
            "text/plain": [
              "8"
            ]
          },
          "metadata": {},
          "execution_count": 9
        }
      ]
    },
    {
      "cell_type": "markdown",
      "source": [
        "Podemos também percorrer cada caractere da string com o for -- strings são objetos iteráveis:"
      ],
      "metadata": {
        "id": "n12sb8LfjKuM"
      }
    },
    {
      "cell_type": "code",
      "source": [
        "for i in nome:\n",
        "  print(i)"
      ],
      "metadata": {
        "colab": {
          "base_uri": "https://localhost:8080/"
        },
        "id": "vK1P2r3AjLCN",
        "outputId": "edfeb6a8-12b5-49e4-bf2d-c5af7b8887c4"
      },
      "execution_count": 10,
      "outputs": [
        {
          "output_type": "stream",
          "name": "stdout",
          "text": [
            "A\n",
            "n\n",
            "d\n",
            "r\n",
            "e\n",
            "s\n",
            "s\n",
            "a\n"
          ]
        }
      ]
    },
    {
      "cell_type": "markdown",
      "source": [
        "Dá pra fazer o mesmo com o range() e o len():"
      ],
      "metadata": {
        "id": "klZd38pOjlCm"
      }
    },
    {
      "cell_type": "code",
      "source": [
        "for i in range(len(nome)):\n",
        "  print(nome[i])"
      ],
      "metadata": {
        "colab": {
          "base_uri": "https://localhost:8080/"
        },
        "id": "_SPfsfd8jlUa",
        "outputId": "5a91a11a-18f7-4e37-c2f8-91882b40c265"
      },
      "execution_count": 11,
      "outputs": [
        {
          "output_type": "stream",
          "name": "stdout",
          "text": [
            "A\n",
            "n\n",
            "d\n",
            "r\n",
            "e\n",
            "s\n",
            "s\n",
            "a\n"
          ]
        }
      ]
    },
    {
      "cell_type": "markdown",
      "source": [
        "Apesar de se parecer com uma lista, a string não tem exatamente as propriedades de uma lista.\n",
        "Por exemplo, não podemos alterar caracteres individualmente:"
      ],
      "metadata": {
        "id": "VHGU-XQzj0r5"
      }
    },
    {
      "cell_type": "code",
      "source": [
        "lista = [1, 2, 3]\n",
        "\n",
        "lista[-1] = 5\n",
        "\n",
        "print(lista)"
      ],
      "metadata": {
        "colab": {
          "base_uri": "https://localhost:8080/"
        },
        "id": "j4AA5ag-j4JN",
        "outputId": "e3aeae3a-0a68-444c-819f-1b26c5684f65"
      },
      "execution_count": 12,
      "outputs": [
        {
          "output_type": "stream",
          "name": "stdout",
          "text": [
            "[1, 2, 5]\n"
          ]
        }
      ]
    },
    {
      "cell_type": "code",
      "source": [
        "nome[-1] = \"A\""
      ],
      "metadata": {
        "colab": {
          "base_uri": "https://localhost:8080/",
          "height": 141
        },
        "id": "WUlJR9fRkFZz",
        "outputId": "f8ab8661-a0af-4228-eef4-a3912825686e"
      },
      "execution_count": 13,
      "outputs": [
        {
          "output_type": "error",
          "ename": "TypeError",
          "evalue": "'str' object does not support item assignment",
          "traceback": [
            "\u001b[0;31m---------------------------------------------------------------------------\u001b[0m",
            "\u001b[0;31mTypeError\u001b[0m                                 Traceback (most recent call last)",
            "\u001b[0;32m<ipython-input-13-7022fc079559>\u001b[0m in \u001b[0;36m<cell line: 1>\u001b[0;34m()\u001b[0m\n\u001b[0;32m----> 1\u001b[0;31m \u001b[0mnome\u001b[0m\u001b[0;34m[\u001b[0m\u001b[0;34m-\u001b[0m\u001b[0;36m1\u001b[0m\u001b[0;34m]\u001b[0m \u001b[0;34m=\u001b[0m \u001b[0;34m\"E\"\u001b[0m\u001b[0;34m\u001b[0m\u001b[0;34m\u001b[0m\u001b[0m\n\u001b[0m",
            "\u001b[0;31mTypeError\u001b[0m: 'str' object does not support item assignment"
          ]
        }
      ]
    },
    {
      "cell_type": "markdown",
      "source": [
        "Mas nós conseguimos alterar caracteres (ou palavras) com o método \"replace()\"\n",
        "Ou simplismente reatribuindo o valor da variável."
      ],
      "metadata": {
        "id": "r67TQ0i9kQ4V"
      }
    },
    {
      "cell_type": "code",
      "source": [
        "nome = nome.replace(\"a\", \"A\")\n",
        "nome"
      ],
      "metadata": {
        "colab": {
          "base_uri": "https://localhost:8080/",
          "height": 35
        },
        "id": "Us3JZGn1kiq2",
        "outputId": "740c91e5-5895-4f6d-f908-3142fb0ec830"
      },
      "execution_count": 15,
      "outputs": [
        {
          "output_type": "execute_result",
          "data": {
            "text/plain": [
              "'AndressA'"
            ],
            "application/vnd.google.colaboratory.intrinsic+json": {
              "type": "string"
            }
          },
          "metadata": {},
          "execution_count": 15
        }
      ]
    },
    {
      "cell_type": "code",
      "source": [
        "nome = 'AndressA'\n",
        "nome"
      ],
      "metadata": {
        "colab": {
          "base_uri": "https://localhost:8080/",
          "height": 35
        },
        "id": "kKgisobAkkUI",
        "outputId": "edf19180-f083-4d17-8624-5579a73a2df8"
      },
      "execution_count": 16,
      "outputs": [
        {
          "output_type": "execute_result",
          "data": {
            "text/plain": [
              "'AndressA'"
            ],
            "application/vnd.google.colaboratory.intrinsic+json": {
              "type": "string"
            }
          },
          "metadata": {},
          "execution_count": 16
        }
      ]
    }
  ]
}