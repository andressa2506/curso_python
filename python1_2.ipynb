{
  "nbformat": 4,
  "nbformat_minor": 0,
  "metadata": {
    "colab": {
      "provenance": [],
      "authorship_tag": "ABX9TyNm4SohBYu1M62EFEA/n6HH"
    },
    "kernelspec": {
      "name": "python3",
      "display_name": "Python 3"
    },
    "language_info": {
      "name": "python"
    }
  },
  "cells": [
    {
      "cell_type": "markdown",
      "source": [
        "# Vamos explorar mais as strings\n",
        "\n",
        "Podemos transformar uma string em uma lista de caracteres, explicitamente, usando a fução ***list()***"
      ],
      "metadata": {
        "id": "XSvhwt1unZ47"
      }
    },
    {
      "cell_type": "code",
      "execution_count": 4,
      "metadata": {
        "colab": {
          "base_uri": "https://localhost:8080/"
        },
        "id": "6Ii6GnminVGa",
        "outputId": "749c2db7-044d-45a3-e45e-bc236914b79c"
      },
      "outputs": [
        {
          "output_type": "stream",
          "name": "stdout",
          "text": [
            "['H', 'E', 'L', 'O', 'I', 'S', 'A']\n"
          ]
        }
      ],
      "source": [
        "nome = \"HELOISA\"\n",
        "\n",
        "nome_lista = list(nome)\n",
        "\n",
        "print(nome_lista)"
      ]
    },
    {
      "cell_type": "markdown",
      "source": [
        "Agora sim, podemos alterar um elemento da lista:"
      ],
      "metadata": {
        "id": "dtmNeXYwoDwE"
      }
    },
    {
      "cell_type": "code",
      "source": [
        "nome_lista[-1] = \"E\"\n",
        "\n",
        "nome_lista"
      ],
      "metadata": {
        "colab": {
          "base_uri": "https://localhost:8080/"
        },
        "id": "rue4cqExoKYa",
        "outputId": "21349a46-fa8f-446c-cdf2-d46204c20149"
      },
      "execution_count": 5,
      "outputs": [
        {
          "output_type": "execute_result",
          "data": {
            "text/plain": [
              "['H', 'E', 'L', 'O', 'I', 'S', 'E']"
            ]
          },
          "metadata": {},
          "execution_count": 5
        }
      ]
    },
    {
      "cell_type": "markdown",
      "source": [
        "# Função join()"
      ],
      "metadata": {
        "id": "a50z33pXotch"
      }
    },
    {
      "cell_type": "markdown",
      "source": [
        "Para trasnformar a lista de volta pra string, usamos a função ***join()***:"
      ],
      "metadata": {
        "id": "PaAG-5l_oX1F"
      }
    },
    {
      "cell_type": "code",
      "source": [
        "\"\".join(nome_lista)"
      ],
      "metadata": {
        "colab": {
          "base_uri": "https://localhost:8080/",
          "height": 35
        },
        "id": "xbUd1QYWoXZt",
        "outputId": "bd5104e4-372b-400c-ed3d-d71a1a7402b1"
      },
      "execution_count": 6,
      "outputs": [
        {
          "output_type": "execute_result",
          "data": {
            "text/plain": [
              "'HELOISE'"
            ],
            "application/vnd.google.colaboratory.intrinsic+json": {
              "type": "string"
            }
          },
          "metadata": {},
          "execution_count": 6
        }
      ]
    },
    {
      "cell_type": "code",
      "source": [
        "\"_\".join(nome_lista)"
      ],
      "metadata": {
        "colab": {
          "base_uri": "https://localhost:8080/",
          "height": 35
        },
        "id": "I285Ew9eoqC5",
        "outputId": "f0ffc250-8675-4d6e-8ded-08c55f4511f1"
      },
      "execution_count": 7,
      "outputs": [
        {
          "output_type": "execute_result",
          "data": {
            "text/plain": [
              "'H_E_L_O_I_S_E'"
            ],
            "application/vnd.google.colaboratory.intrinsic+json": {
              "type": "string"
            }
          },
          "metadata": {},
          "execution_count": 7
        }
      ]
    },
    {
      "cell_type": "markdown",
      "source": [
        "Como já vimos, podemos fazer operações com strings!\n",
        "\n",
        "Soma de strings: ao somar duas strings, elas são concatenadas:"
      ],
      "metadata": {
        "id": "vXpbJRP2pJGW"
      }
    },
    {
      "cell_type": "code",
      "source": [
        "'S'+'P'"
      ],
      "metadata": {
        "colab": {
          "base_uri": "https://localhost:8080/",
          "height": 35
        },
        "id": "DZ2AzdcIpMx6",
        "outputId": "763a9fe7-9566-47ca-e9cd-98f27af536f7"
      },
      "execution_count": 9,
      "outputs": [
        {
          "output_type": "execute_result",
          "data": {
            "text/plain": [
              "'SP'"
            ],
            "application/vnd.google.colaboratory.intrinsic+json": {
              "type": "string"
            }
          },
          "metadata": {},
          "execution_count": 9
        }
      ]
    },
    {
      "cell_type": "markdown",
      "source": [
        "Multiplicação de string por inteiro: ao multiplicar uma string por um número inteiro, a string é repetida:"
      ],
      "metadata": {
        "id": "Sgnt7J9fpecu"
      }
    },
    {
      "cell_type": "code",
      "source": [
        "' Olá '*4"
      ],
      "metadata": {
        "colab": {
          "base_uri": "https://localhost:8080/",
          "height": 35
        },
        "id": "MeGThKmVpfUO",
        "outputId": "2d532392-c0f1-442a-cb76-6994b6feeb5d"
      },
      "execution_count": 12,
      "outputs": [
        {
          "output_type": "execute_result",
          "data": {
            "text/plain": [
              "' Olá  Olá  Olá  Olá '"
            ],
            "application/vnd.google.colaboratory.intrinsic+json": {
              "type": "string"
            }
          },
          "metadata": {},
          "execution_count": 12
        }
      ]
    },
    {
      "cell_type": "code",
      "source": [
        "print(\"=\"*50)\n",
        "print(\"OLÁ, BEM-VINDOS À ADA TECH\".center(50))\n",
        "print(\"=\"*50)"
      ],
      "metadata": {
        "colab": {
          "base_uri": "https://localhost:8080/"
        },
        "id": "eil4epm3pvhD",
        "outputId": "edc42c59-f030-4a0a-daa0-3b1d40006365"
      },
      "execution_count": 13,
      "outputs": [
        {
          "output_type": "stream",
          "name": "stdout",
          "text": [
            "==================================================\n",
            "            OLÁ, BEM-VINDOS À ADA TECH            \n",
            "==================================================\n"
          ]
        }
      ]
    },
    {
      "cell_type": "code",
      "source": [
        "\"OLÁ, BEM-VINDOS À ADA TECH\".center(50)"
      ],
      "metadata": {
        "colab": {
          "base_uri": "https://localhost:8080/",
          "height": 35
        },
        "id": "REzI47LMpzeM",
        "outputId": "40d70685-61fc-4a92-f852-8f0854d9c162"
      },
      "execution_count": 14,
      "outputs": [
        {
          "output_type": "execute_result",
          "data": {
            "text/plain": [
              "'            OLÁ, BEM-VINDOS À ADA TECH            '"
            ],
            "application/vnd.google.colaboratory.intrinsic+json": {
              "type": "string"
            }
          },
          "metadata": {},
          "execution_count": 14
        }
      ]
    },
    {
      "cell_type": "markdown",
      "source": [
        "# Funções de strings\n",
        "\n",
        "Como listas, strings também têm algumas funções específicas. Algumas delas são:"
      ],
      "metadata": {
        "id": "oKHkuGJ1qDoi"
      }
    },
    {
      "cell_type": "code",
      "source": [
        "boas_vindas_ada = \"Seja bem-vindo à Ada Tech!\""
      ],
      "metadata": {
        "id": "eMNVgkMzqcn6"
      },
      "execution_count": 15,
      "outputs": []
    },
    {
      "cell_type": "markdown",
      "source": [
        "***.upper():*** transforma todos os caracteres em maiúscula"
      ],
      "metadata": {
        "id": "NGaGfQkMqiC4"
      }
    },
    {
      "cell_type": "code",
      "source": [
        "boas_vindas_ada.upper()"
      ],
      "metadata": {
        "colab": {
          "base_uri": "https://localhost:8080/",
          "height": 35
        },
        "id": "wBHqfePwqmST",
        "outputId": "dc01b8ec-efd9-4991-cc72-34931ace95c7"
      },
      "execution_count": 16,
      "outputs": [
        {
          "output_type": "execute_result",
          "data": {
            "text/plain": [
              "'SEJA BEM-VINDO À ADA TECH!'"
            ],
            "application/vnd.google.colaboratory.intrinsic+json": {
              "type": "string"
            }
          },
          "metadata": {},
          "execution_count": 16
        }
      ]
    },
    {
      "cell_type": "markdown",
      "source": [
        "***.lower():*** trasnforma todos os caracteres em minúscula"
      ],
      "metadata": {
        "id": "l4KQ5L0Xqmnb"
      }
    },
    {
      "cell_type": "code",
      "source": [
        "boas_vindas_ada.lower()"
      ],
      "metadata": {
        "colab": {
          "base_uri": "https://localhost:8080/",
          "height": 35
        },
        "id": "MNo7-M7gqm3K",
        "outputId": "00ae0469-c346-487d-c4ba-b88be12321d2"
      },
      "execution_count": 17,
      "outputs": [
        {
          "output_type": "execute_result",
          "data": {
            "text/plain": [
              "'seja bem-vindo à ada tech!'"
            ],
            "application/vnd.google.colaboratory.intrinsic+json": {
              "type": "string"
            }
          },
          "metadata": {},
          "execution_count": 17
        }
      ]
    },
    {
      "cell_type": "markdown",
      "source": [
        "***.title():*** deixa a primeira letra de cada palavra em maiúscula"
      ],
      "metadata": {
        "id": "0vqfn7L1q48C"
      }
    },
    {
      "cell_type": "code",
      "source": [
        "boas_vindas_ada.title()"
      ],
      "metadata": {
        "colab": {
          "base_uri": "https://localhost:8080/",
          "height": 35
        },
        "id": "dFEfdUu8q5LW",
        "outputId": "fb9d93ea-a773-4622-9995-fafd78e93d32"
      },
      "execution_count": 19,
      "outputs": [
        {
          "output_type": "execute_result",
          "data": {
            "text/plain": [
              "'Seja Bem-Vindo À Ada Tech!'"
            ],
            "application/vnd.google.colaboratory.intrinsic+json": {
              "type": "string"
            }
          },
          "metadata": {},
          "execution_count": 19
        }
      ]
    },
    {
      "cell_type": "markdown",
      "source": [
        "***.capitalize():*** deixa a primeira letra da primeira palavra em maiúscula"
      ],
      "metadata": {
        "id": "LPUSOSPKrNty"
      }
    },
    {
      "cell_type": "code",
      "source": [
        "boas_vindas_ada.capitalize()"
      ],
      "metadata": {
        "colab": {
          "base_uri": "https://localhost:8080/",
          "height": 35
        },
        "id": "34-OE8MqrO6_",
        "outputId": "11f4ef55-0dce-493a-f9d3-ae71eceb059e"
      },
      "execution_count": 20,
      "outputs": [
        {
          "output_type": "execute_result",
          "data": {
            "text/plain": [
              "'Seja bem-vindo à ada tech!'"
            ],
            "application/vnd.google.colaboratory.intrinsic+json": {
              "type": "string"
            }
          },
          "metadata": {},
          "execution_count": 20
        }
      ]
    },
    {
      "cell_type": "markdown",
      "source": [
        "É possível quebrar uma string em determinado caractere, tendo como resultado uma lista com os caracteres além da quebra.\n",
        "\n",
        "Para quebrar nos espaços, use a função \".split()\", sem argumento"
      ],
      "metadata": {
        "id": "6bjGZuJ1riyu"
      }
    },
    {
      "cell_type": "code",
      "source": [
        "list(boas_vindas_ada)"
      ],
      "metadata": {
        "colab": {
          "base_uri": "https://localhost:8080/"
        },
        "id": "5ZqQ70jqrlJ5",
        "outputId": "90fb74fd-ccf9-4e41-f7cb-ebeecf05a77b"
      },
      "execution_count": 21,
      "outputs": [
        {
          "output_type": "execute_result",
          "data": {
            "text/plain": [
              "['S',\n",
              " 'e',\n",
              " 'j',\n",
              " 'a',\n",
              " ' ',\n",
              " 'b',\n",
              " 'e',\n",
              " 'm',\n",
              " '-',\n",
              " 'v',\n",
              " 'i',\n",
              " 'n',\n",
              " 'd',\n",
              " 'o',\n",
              " ' ',\n",
              " 'à',\n",
              " ' ',\n",
              " 'A',\n",
              " 'd',\n",
              " 'a',\n",
              " ' ',\n",
              " 'T',\n",
              " 'e',\n",
              " 'c',\n",
              " 'h',\n",
              " '!']"
            ]
          },
          "metadata": {},
          "execution_count": 21
        }
      ]
    },
    {
      "cell_type": "code",
      "source": [
        "boas_vindas_ada"
      ],
      "metadata": {
        "colab": {
          "base_uri": "https://localhost:8080/",
          "height": 35
        },
        "id": "GyyItZq8rui_",
        "outputId": "2916982b-1963-4ee0-d101-2f98bfc86197"
      },
      "execution_count": 22,
      "outputs": [
        {
          "output_type": "execute_result",
          "data": {
            "text/plain": [
              "'Seja bem-vindo à Ada Tech!'"
            ],
            "application/vnd.google.colaboratory.intrinsic+json": {
              "type": "string"
            }
          },
          "metadata": {},
          "execution_count": 22
        }
      ]
    },
    {
      "cell_type": "code",
      "source": [
        "boas_vindas_ada.split()"
      ],
      "metadata": {
        "colab": {
          "base_uri": "https://localhost:8080/"
        },
        "id": "dY_ZIJYyrwJS",
        "outputId": "3bf4ac90-aa11-443a-eb19-b96e770cd75b"
      },
      "execution_count": 23,
      "outputs": [
        {
          "output_type": "execute_result",
          "data": {
            "text/plain": [
              "['Seja', 'bem-vindo', 'à', 'Ada', 'Tech!']"
            ]
          },
          "metadata": {},
          "execution_count": 23
        }
      ]
    },
    {
      "cell_type": "markdown",
      "source": [
        "* Para quebrar em algum caracter, use o caractere como argumento:"
      ],
      "metadata": {
        "id": "JJpcus02r3MV"
      }
    },
    {
      "cell_type": "code",
      "source": [
        "boas_vindas_ada.split(\"n\")"
      ],
      "metadata": {
        "colab": {
          "base_uri": "https://localhost:8080/"
        },
        "id": "qwJlUpaIr6Cf",
        "outputId": "bf6886d2-35c8-42b8-fd89-1fcd7cc68e23"
      },
      "execution_count": 24,
      "outputs": [
        {
          "output_type": "execute_result",
          "data": {
            "text/plain": [
              "['Seja bem-vi', 'do à Ada Tech!']"
            ]
          },
          "metadata": {},
          "execution_count": 24
        }
      ]
    },
    {
      "cell_type": "code",
      "source": [
        "string = \"eu gosto de estudar python\"\n",
        "\n",
        "string.split(\"o\")"
      ],
      "metadata": {
        "colab": {
          "base_uri": "https://localhost:8080/"
        },
        "id": "15dBMMv1sBKc",
        "outputId": "3063e23c-dac5-4dae-b2c8-c3c270c5c207"
      },
      "execution_count": 25,
      "outputs": [
        {
          "output_type": "execute_result",
          "data": {
            "text/plain": [
              "['eu g', 'st', ' de estudar pyth', 'n']"
            ]
          },
          "metadata": {},
          "execution_count": 25
        }
      ]
    },
    {
      "cell_type": "markdown",
      "source": [
        "Tirar espaços que estão sobrando no fim e no início da string\n",
        "\n",
        "* Utilize a função ***strip()***"
      ],
      "metadata": {
        "id": "H91JfEc_sLdY"
      }
    },
    {
      "cell_type": "code",
      "source": [
        "string = \"            eu gosto de estudar python   \"\n",
        "\n",
        "string.strip()"
      ],
      "metadata": {
        "colab": {
          "base_uri": "https://localhost:8080/",
          "height": 35
        },
        "id": "5Wnv7n_CsRfw",
        "outputId": "4866fb80-fed1-425e-a913-80ca20b50f88"
      },
      "execution_count": 26,
      "outputs": [
        {
          "output_type": "execute_result",
          "data": {
            "text/plain": [
              "'eu gosto de estudar python'"
            ],
            "application/vnd.google.colaboratory.intrinsic+json": {
              "type": "string"
            }
          },
          "metadata": {},
          "execution_count": 26
        }
      ]
    },
    {
      "cell_type": "markdown",
      "source": [
        "Mas essa função não elimina espaços extrar no \"meio\" da string -- apenas no início e no fim!\n",
        "\n",
        "Para tirar espaços do meio, podemos fazer:\n"
      ],
      "metadata": {
        "id": "euqjMhcAsX2L"
      }
    },
    {
      "cell_type": "code",
      "source": [
        "string = \"            eu    gosto de         estudar python   \"\n",
        "\n",
        "string"
      ],
      "metadata": {
        "colab": {
          "base_uri": "https://localhost:8080/",
          "height": 35
        },
        "id": "Dxl0vuwWso4C",
        "outputId": "325df891-7699-45ce-e31a-4b2fa53bf023"
      },
      "execution_count": 27,
      "outputs": [
        {
          "output_type": "execute_result",
          "data": {
            "text/plain": [
              "'            eu    gosto de         estudar python   '"
            ],
            "application/vnd.google.colaboratory.intrinsic+json": {
              "type": "string"
            }
          },
          "metadata": {},
          "execution_count": 27
        }
      ]
    },
    {
      "cell_type": "code",
      "source": [
        "lista_str = string.split()\n",
        "\n",
        "\" \".join(lista_str)"
      ],
      "metadata": {
        "colab": {
          "base_uri": "https://localhost:8080/",
          "height": 35
        },
        "id": "ojSp_zYasx6d",
        "outputId": "9d98a1f0-7dd2-4254-c06d-9ca6cff29d08"
      },
      "execution_count": 28,
      "outputs": [
        {
          "output_type": "execute_result",
          "data": {
            "text/plain": [
              "'eu gosto de estudar python'"
            ],
            "application/vnd.google.colaboratory.intrinsic+json": {
              "type": "string"
            }
          },
          "metadata": {},
          "execution_count": 28
        }
      ]
    }
  ]
}